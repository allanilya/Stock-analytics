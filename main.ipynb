{
 "cells": [
  {
   "cell_type": "code",
   "execution_count": 24,
   "id": "e276255b",
   "metadata": {},
   "outputs": [
    {
     "name": "stdout",
     "output_type": "stream",
     "text": [
      "Requirement already satisfied: requests in /Library/Frameworks/Python.framework/Versions/3.13/lib/python3.13/site-packages (2.32.5)\n",
      "Requirement already satisfied: python-dotenv in /Library/Frameworks/Python.framework/Versions/3.13/lib/python3.13/site-packages (1.1.1)\n",
      "Requirement already satisfied: charset_normalizer<4,>=2 in /Library/Frameworks/Python.framework/Versions/3.13/lib/python3.13/site-packages (from requests) (3.4.3)\n",
      "Requirement already satisfied: idna<4,>=2.5 in /Library/Frameworks/Python.framework/Versions/3.13/lib/python3.13/site-packages (from requests) (3.10)\n",
      "Requirement already satisfied: urllib3<3,>=1.21.1 in /Library/Frameworks/Python.framework/Versions/3.13/lib/python3.13/site-packages (from requests) (2.5.0)\n",
      "Requirement already satisfied: certifi>=2017.4.17 in /Library/Frameworks/Python.framework/Versions/3.13/lib/python3.13/site-packages (from requests) (2025.8.3)\n",
      "Note: you may need to restart the kernel to use updated packages.\n"
     ]
    }
   ],
   "source": [
    "%pip install requests python-dotenv\n"
   ]
  },
  {
   "cell_type": "code",
   "execution_count": 26,
   "id": "51f17fca",
   "metadata": {},
   "outputs": [
    {
     "name": "stdout",
     "output_type": "stream",
     "text": [
      "Using API key: your_alpha_vantage_api_key_here\n",
      "⚠️ Error fetching AAPL: {'Information': 'Thank you for using Alpha Vantage! This is a premium endpoint. You may subscribe to any of the premium plans at https://www.alphavantage.co/premium/ to instantly unlock all premium endpoints'}\n"
     ]
    },
    {
     "ename": "KeyboardInterrupt",
     "evalue": "",
     "output_type": "error",
     "traceback": [
      "\u001b[31m---------------------------------------------------------------------------\u001b[39m",
      "\u001b[31mKeyboardInterrupt\u001b[39m                         Traceback (most recent call last)",
      "\u001b[36mCell\u001b[39m\u001b[36m \u001b[39m\u001b[32mIn[26]\u001b[39m\u001b[32m, line 44\u001b[39m\n\u001b[32m     42\u001b[39m \u001b[38;5;66;03m# Example usage with throttling delay\u001b[39;00m\n\u001b[32m     43\u001b[39m aapl = get_stock_data(\u001b[33m\"\u001b[39m\u001b[33mAAPL\u001b[39m\u001b[33m\"\u001b[39m)\n\u001b[32m---> \u001b[39m\u001b[32m44\u001b[39m \u001b[43mtime\u001b[49m\u001b[43m.\u001b[49m\u001b[43msleep\u001b[49m\u001b[43m(\u001b[49m\u001b[32;43m15\u001b[39;49m\u001b[43m)\u001b[49m  \u001b[38;5;66;03m# respect Alpha Vantage free-tier (5 req/min)\u001b[39;00m\n\u001b[32m     45\u001b[39m nvda = get_stock_data(\u001b[33m\"\u001b[39m\u001b[33mNVDA\u001b[39m\u001b[33m\"\u001b[39m)\n\u001b[32m     46\u001b[39m time.sleep(\u001b[32m15\u001b[39m)\n",
      "\u001b[31mKeyboardInterrupt\u001b[39m: "
     ]
    }
   ],
   "source": [
    "import os\n",
    "import pandas as pd\n",
    "import requests\n",
    "from dotenv import load_dotenv\n",
    "import time\n",
    "\n",
    "# Load API key\n",
    "load_dotenv(\"env.template\")\n",
    "API_KEY = os.getenv(\"ALPHA_VANTAGE_API_KEY\", \"3QWYSMWRTP6X05A0\")  # fallback to your hardcoded key\n",
    "print(\"Using API key:\", API_KEY)\n",
    "\n",
    "def get_stock_data(symbol: str, outputsize=\"full\"):\n",
    "    \"\"\"Fetch daily stock data from Alpha Vantage API safely.\"\"\"\n",
    "    url = \"https://www.alphavantage.co/query\"\n",
    "    params = {\n",
    "        \"function\": \"TIME_SERIES_DAILY_ADJUSTED\",\n",
    "        \"symbol\": symbol,\n",
    "        \"apikey\": API_KEY,\n",
    "        \"outputsize\": outputsize\n",
    "    }\n",
    "    r = requests.get(url, params=params)\n",
    "    data = r.json()\n",
    "\n",
    "    # Check if response contains expected key\n",
    "    if \"Time Series (Daily)\" not in data:\n",
    "        print(f\"⚠️ Error fetching {symbol}: {data}\")\n",
    "        return pd.DataFrame()  # return empty dataframe instead of crashing\n",
    "\n",
    "    df = pd.DataFrame.from_dict(data[\"Time Series (Daily)\"], orient=\"index\", dtype=float)\n",
    "    df.index = pd.to_datetime(df.index)\n",
    "    df.sort_index(inplace=True)\n",
    "    df = df.rename(columns={\n",
    "        \"1. open\": \"Open\",\n",
    "        \"2. high\": \"High\",\n",
    "        \"3. low\": \"Low\",\n",
    "        \"4. close\": \"Close\",\n",
    "        \"5. adjusted close\": \"Adj Close\",\n",
    "        \"6. volume\": \"Volume\"\n",
    "    })\n",
    "    return df\n",
    "\n",
    "# Example usage with throttling delay\n",
    "aapl = get_stock_data(\"AAPL\")\n",
    "time.sleep(15)  # respect Alpha Vantage free-tier (5 req/min)\n",
    "nvda = get_stock_data(\"NVDA\")\n",
    "time.sleep(15)\n",
    "lyft = get_stock_data(\"LYFT\")\n",
    "\n",
    "print(aapl.head())\n"
   ]
  },
  {
   "cell_type": "code",
   "execution_count": null,
   "id": "b255d04f",
   "metadata": {},
   "outputs": [],
   "source": [
    "def add_ema_dema(df, span=20):\n",
    "    \"\"\"Add EMA and DEMA columns to the DataFrame.\"\"\"\n",
    "    df[f\"EMA_{span}\"] = df[\"Close\"].ewm(span=span, adjust=False).mean()\n",
    "    ema = df[f\"EMA_{span}\"]\n",
    "    df[f\"DEMA_{span}\"] = 2*ema - ema.ewm(span=span, adjust=False).mean()\n",
    "    return df\n",
    "\n",
    "# Apply to all stocks\n",
    "aapl = add_ema_dema(aapl, 20)\n",
    "nvda = add_ema_dema(nvda, 20)\n",
    "lyft = add_ema_dema(lyft, 20)\n"
   ]
  },
  {
   "cell_type": "code",
   "execution_count": null,
   "id": "8e3f464d",
   "metadata": {},
   "outputs": [],
   "source": [
    "import matplotlib.pyplot as plt\n",
    "\n",
    "def plot_stock(df, symbol, span=20):\n",
    "    plt.figure(figsize=(12,6))\n",
    "    plt.plot(df.index, df[\"Close\"], label=\"Close Price\", alpha=0.6)\n",
    "    plt.plot(df.index, df[f\"EMA_{span}\"], label=f\"EMA {span}\", linestyle=\"--\")\n",
    "    plt.plot(df.index, df[f\"DEMA_{span}\"], label=f\"DEMA {span}\", linestyle=\":\")\n",
    "    plt.title(f\"{symbol} Stock with EMA & DEMA\")\n",
    "    plt.xlabel(\"Date\")\n",
    "    plt.ylabel(\"Price\")\n",
    "    plt.legend()\n",
    "    plt.show()\n",
    "\n",
    "plot_stock(aapl, \"AAPL\")\n",
    "plot_stock(nvda, \"NVDA\")\n",
    "plot_stock(lyft, \"LYFT\")\n"
   ]
  },
  {
   "cell_type": "code",
   "execution_count": null,
   "id": "1f14236c",
   "metadata": {},
   "outputs": [],
   "source": [
    "from statsmodels.tsa.seasonal import seasonal_decompose\n",
    "\n",
    "def decompose_series(df, symbol):\n",
    "    decomposition = seasonal_decompose(df[\"Adj Close\"], model=\"multiplicative\", period=252)\n",
    "    fig = decomposition.plot()\n",
    "    fig.suptitle(f\"{symbol} - Time Series Decomposition\", fontsize=14)\n",
    "    plt.show()\n",
    "\n",
    "decompose_series(aapl, \"AAPL\")\n",
    "decompose_series(nvda, \"NVDA\")\n",
    "decompose_series(lyft, \"LYFT\")\n"
   ]
  },
  {
   "cell_type": "code",
   "execution_count": null,
   "id": "137efd4c",
   "metadata": {},
   "outputs": [],
   "source": [
    "\n"
   ]
  },
  {
   "cell_type": "code",
   "execution_count": null,
   "id": "a342bdc6",
   "metadata": {},
   "outputs": [],
   "source": [
    "\n"
   ]
  },
  {
   "cell_type": "code",
   "execution_count": null,
   "id": "fab1316f",
   "metadata": {},
   "outputs": [],
   "source": [
    "\n"
   ]
  }
 ],
 "metadata": {
  "kernelspec": {
   "display_name": "Python 3",
   "language": "python",
   "name": "python3"
  },
  "language_info": {
   "codemirror_mode": {
    "name": "ipython",
    "version": 3
   },
   "file_extension": ".py",
   "mimetype": "text/x-python",
   "name": "python",
   "nbconvert_exporter": "python",
   "pygments_lexer": "ipython3",
   "version": "3.13.7"
  }
 },
 "nbformat": 4,
 "nbformat_minor": 5
}
