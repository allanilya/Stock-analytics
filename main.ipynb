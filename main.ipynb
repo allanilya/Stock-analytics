{
 "cells": [
  {
   "cell_type": "code",
   "execution_count": 1,
   "id": "e276255b",
   "metadata": {},
   "outputs": [
    {
     "name": "stdout",
     "output_type": "stream",
     "text": [
      "Requirement already satisfied: requests in /Library/Frameworks/Python.framework/Versions/3.13/lib/python3.13/site-packages (2.32.5)\n",
      "Requirement already satisfied: python-dotenv in /Library/Frameworks/Python.framework/Versions/3.13/lib/python3.13/site-packages (1.1.1)\n",
      "Requirement already satisfied: charset_normalizer<4,>=2 in /Library/Frameworks/Python.framework/Versions/3.13/lib/python3.13/site-packages (from requests) (3.4.3)\n",
      "Requirement already satisfied: idna<4,>=2.5 in /Library/Frameworks/Python.framework/Versions/3.13/lib/python3.13/site-packages (from requests) (3.10)\n",
      "Requirement already satisfied: urllib3<3,>=1.21.1 in /Library/Frameworks/Python.framework/Versions/3.13/lib/python3.13/site-packages (from requests) (2.5.0)\n",
      "Requirement already satisfied: certifi>=2017.4.17 in /Library/Frameworks/Python.framework/Versions/3.13/lib/python3.13/site-packages (from requests) (2025.8.3)\n",
      "Note: you may need to restart the kernel to use updated packages.\n"
     ]
    }
   ],
   "source": [
    "%pip install requests python-dotenv\n"
   ]
  },
  {
   "cell_type": "code",
   "execution_count": null,
   "id": "51f17fca",
   "metadata": {},
   "outputs": [
    {
     "ename": "KeyError",
     "evalue": "'Time Series (Daily)'",
     "output_type": "error",
     "traceback": [
      "\u001b[31m---------------------------------------------------------------------------\u001b[39m",
      "\u001b[31mKeyError\u001b[39m                                  Traceback (most recent call last)",
      "\u001b[36mCell\u001b[39m\u001b[36m \u001b[39m\u001b[32mIn[2]\u001b[39m\u001b[32m, line 36\u001b[39m\n\u001b[32m     33\u001b[39m     \u001b[38;5;28;01mreturn\u001b[39;00m df\n\u001b[32m     35\u001b[39m \u001b[38;5;66;03m# Example usage\u001b[39;00m\n\u001b[32m---> \u001b[39m\u001b[32m36\u001b[39m aapl = \u001b[43mget_stock_data\u001b[49m\u001b[43m(\u001b[49m\u001b[33;43m\"\u001b[39;49m\u001b[33;43mAAPL\u001b[39;49m\u001b[33;43m\"\u001b[39;49m\u001b[43m)\u001b[49m\n\u001b[32m     37\u001b[39m nvda = get_stock_data(\u001b[33m\"\u001b[39m\u001b[33mNVDA\u001b[39m\u001b[33m\"\u001b[39m)\n\u001b[32m     38\u001b[39m lyft = get_stock_data(\u001b[33m\"\u001b[39m\u001b[33mLYFT\u001b[39m\u001b[33m\"\u001b[39m)\n",
      "\u001b[36mCell\u001b[39m\u001b[36m \u001b[39m\u001b[32mIn[2]\u001b[39m\u001b[32m, line 20\u001b[39m, in \u001b[36mget_stock_data\u001b[39m\u001b[34m(symbol)\u001b[39m\n\u001b[32m     13\u001b[39m params = {\n\u001b[32m     14\u001b[39m     \u001b[33m\"\u001b[39m\u001b[33mfunction\u001b[39m\u001b[33m\"\u001b[39m: \u001b[33m\"\u001b[39m\u001b[33mTIME_SERIES_DAILY_ADJUSTED\u001b[39m\u001b[33m\"\u001b[39m,\n\u001b[32m     15\u001b[39m     \u001b[33m\"\u001b[39m\u001b[33msymbol\u001b[39m\u001b[33m\"\u001b[39m: symbol,\n\u001b[32m     16\u001b[39m     \u001b[33m\"\u001b[39m\u001b[33mapikey\u001b[39m\u001b[33m\"\u001b[39m: API_KEY,\n\u001b[32m     17\u001b[39m     \u001b[33m\"\u001b[39m\u001b[33moutputsize\u001b[39m\u001b[33m\"\u001b[39m: \u001b[33m\"\u001b[39m\u001b[33mfull\u001b[39m\u001b[33m\"\u001b[39m\n\u001b[32m     18\u001b[39m }\n\u001b[32m     19\u001b[39m r = requests.get(url, params=params)\n\u001b[32m---> \u001b[39m\u001b[32m20\u001b[39m data = \u001b[43mr\u001b[49m\u001b[43m.\u001b[49m\u001b[43mjson\u001b[49m\u001b[43m(\u001b[49m\u001b[43m)\u001b[49m\u001b[43m[\u001b[49m\u001b[33;43m\"\u001b[39;49m\u001b[33;43mTime Series (Daily)\u001b[39;49m\u001b[33;43m\"\u001b[39;49m\u001b[43m]\u001b[49m\n\u001b[32m     22\u001b[39m df = pd.DataFrame.from_dict(data, orient=\u001b[33m\"\u001b[39m\u001b[33mindex\u001b[39m\u001b[33m\"\u001b[39m, dtype=\u001b[38;5;28mfloat\u001b[39m)\n\u001b[32m     23\u001b[39m df.index = pd.to_datetime(df.index)\n",
      "\u001b[31mKeyError\u001b[39m: 'Time Series (Daily)'"
     ]
    }
   ],
   "source": [
    "import os\n",
    "import pandas as pd\n",
    "import requests\n",
    "from dotenv import load_dotenv\n",
    "\n",
    "# Load API key\n",
    "load_dotenv(\"env.template\")\n",
    "API_KEY = os.getenv(\"ALPHA_VANTAGE_API_KEY\")\n",
    "\n",
    "def get_stock_data(symbol: str):\n",
    "    \"\"\"Fetch daily stock data from Alpha Vantage API.\"\"\"\n",
    "    url = f\"https://www.alphavantage.co/query\"\n",
    "    params = {\n",
    "        \"function\": \"TIME_SERIES_DAILY_ADJUSTED\",\n",
    "        \"symbol\": symbol,\n",
    "        \"apikey\": API_KEY,\n",
    "        \"outputsize\": \"full\"\n",
    "    }\n",
    "    r = requests.get(url, params=params)\n",
    "    data = r.json()[\"Time Series (Daily)\"]\n",
    "\n",
    "    df = pd.DataFrame.from_dict(data, orient=\"index\", dtype=float)\n",
    "    df.index = pd.to_datetime(df.index)\n",
    "    df.sort_index(inplace=True)\n",
    "    df = df.rename(columns={\n",
    "        \"1. open\": \"Open\",\n",
    "        \"2. high\": \"High\",\n",
    "        \"3. low\": \"Low\",\n",
    "        \"4. close\": \"Close\",\n",
    "        \"5. adjusted close\": \"Adj Close\",\n",
    "        \"6. volume\": \"Volume\"\n",
    "    })\n",
    "    return df\n",
    "\n",
    "# Example usage\n",
    "aapl = get_stock_data(\"AAPL\")\n",
    "nvda = get_stock_data(\"NVDA\")\n",
    "lyft = get_stock_data(\"LYFT\")\n"
   ]
  },
  {
   "cell_type": "code",
   "execution_count": null,
   "id": "b255d04f",
   "metadata": {},
   "outputs": [],
   "source": [
    "def add_ema_dema(df, span=20):\n",
    "    \"\"\"Add EMA and DEMA columns to the DataFrame.\"\"\"\n",
    "    df[f\"EMA_{span}\"] = df[\"Close\"].ewm(span=span, adjust=False).mean()\n",
    "    ema = df[f\"EMA_{span}\"]\n",
    "    df[f\"DEMA_{span}\"] = 2*ema - ema.ewm(span=span, adjust=False).mean()\n",
    "    return df\n",
    "\n",
    "# Apply to all stocks\n",
    "aapl = add_ema_dema(aapl, 20)\n",
    "nvda = add_ema_dema(nvda, 20)\n",
    "lyft = add_ema_dema(lyft, 20)\n"
   ]
  },
  {
   "cell_type": "code",
   "execution_count": null,
   "id": "8e3f464d",
   "metadata": {},
   "outputs": [],
   "source": [
    "import matplotlib.pyplot as plt\n",
    "\n",
    "def plot_stock(df, symbol, span=20):\n",
    "    plt.figure(figsize=(12,6))\n",
    "    plt.plot(df.index, df[\"Close\"], label=\"Close Price\", alpha=0.6)\n",
    "    plt.plot(df.index, df[f\"EMA_{span}\"], label=f\"EMA {span}\", linestyle=\"--\")\n",
    "    plt.plot(df.index, df[f\"DEMA_{span}\"], label=f\"DEMA {span}\", linestyle=\":\")\n",
    "    plt.title(f\"{symbol} Stock with EMA & DEMA\")\n",
    "    plt.xlabel(\"Date\")\n",
    "    plt.ylabel(\"Price\")\n",
    "    plt.legend()\n",
    "    plt.show()\n",
    "\n",
    "plot_stock(aapl, \"AAPL\")\n",
    "plot_stock(nvda, \"NVDA\")\n",
    "plot_stock(lyft, \"LYFT\")\n"
   ]
  },
  {
   "cell_type": "code",
   "execution_count": null,
   "id": "1f14236c",
   "metadata": {},
   "outputs": [],
   "source": [
    "from statsmodels.tsa.seasonal import seasonal_decompose\n",
    "\n",
    "def decompose_series(df, symbol):\n",
    "    decomposition = seasonal_decompose(df[\"Adj Close\"], model=\"multiplicative\", period=252)\n",
    "    fig = decomposition.plot()\n",
    "    fig.suptitle(f\"{symbol} - Time Series Decomposition\", fontsize=14)\n",
    "    plt.show()\n",
    "\n",
    "decompose_series(aapl, \"AAPL\")\n",
    "decompose_series(nvda, \"NVDA\")\n",
    "decompose_series(lyft, \"LYFT\")\n"
   ]
  },
  {
   "cell_type": "code",
   "execution_count": null,
   "id": "137efd4c",
   "metadata": {},
   "outputs": [],
   "source": [
    "\n"
   ]
  },
  {
   "cell_type": "code",
   "execution_count": null,
   "id": "a342bdc6",
   "metadata": {},
   "outputs": [],
   "source": [
    "\n"
   ]
  },
  {
   "cell_type": "code",
   "execution_count": null,
   "id": "fab1316f",
   "metadata": {},
   "outputs": [],
   "source": [
    "\n"
   ]
  }
 ],
 "metadata": {
  "kernelspec": {
   "display_name": "Python 3",
   "language": "python",
   "name": "python3"
  },
  "language_info": {
   "codemirror_mode": {
    "name": "ipython",
    "version": 3
   },
   "file_extension": ".py",
   "mimetype": "text/x-python",
   "name": "python",
   "nbconvert_exporter": "python",
   "pygments_lexer": "ipython3",
   "version": "3.13.7"
  }
 },
 "nbformat": 4,
 "nbformat_minor": 5
}
