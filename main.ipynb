{
 "cells": [
  {
   "cell_type": "code",
   "execution_count": null,
   "id": "e276255b",
   "metadata": {},
   "outputs": [],
   "source": "%pip install yfinance pandas plotly statsmodels"
  },
  {
   "cell_type": "code",
   "execution_count": null,
   "id": "51f17fca",
   "metadata": {},
   "outputs": [],
   "source": "import yfinance as yf\nimport pandas as pd\n\ndef get_stock_data(symbol: str, start=\"2020-01-01\", end=None):\n    \"\"\"Fetch daily stock data from Yahoo Finance.\"\"\"\n    if end is None:\n        end = pd.Timestamp.today().strftime('%Y-%m-%d')\n    \n    print(f\"Fetching {symbol}...\")\n    df = yf.download(symbol, start=start, end=end, progress=False, auto_adjust=False)\n    \n    if df.empty:\n        print(f\"⚠️ Error fetching {symbol}: No data returned\")\n        return pd.DataFrame()\n    \n    # Flatten column names if they're multi-level\n    if isinstance(df.columns, pd.MultiIndex):\n        df.columns = df.columns.get_level_values(0)\n    \n    print(f\"✓ Fetched {len(df)} days of data for {symbol}\")\n    return df\n\n# Fetch stock data (no throttling needed with yfinance!)\naapl = get_stock_data(\"AAPL\")\nnvda = get_stock_data(\"NVDA\")\nlyft = get_stock_data(\"LYFT\")\n\nprint(\"\\nAAPL Sample:\")\nprint(aapl.head())\nprint(\"\\nColumns:\", aapl.columns.tolist())"
  },
  {
   "cell_type": "code",
   "execution_count": null,
   "id": "b255d04f",
   "metadata": {},
   "outputs": [],
   "source": [
    "def add_ema_dema(df, span=20):\n",
    "    \"\"\"Add EMA and DEMA columns to the DataFrame.\"\"\"\n",
    "    df[f\"EMA_{span}\"] = df[\"Close\"].ewm(span=span, adjust=False).mean()\n",
    "    ema = df[f\"EMA_{span}\"]\n",
    "    df[f\"DEMA_{span}\"] = 2*ema - ema.ewm(span=span, adjust=False).mean()\n",
    "    return df\n",
    "\n",
    "# Apply to all stocks\n",
    "aapl = add_ema_dema(aapl, 20)\n",
    "nvda = add_ema_dema(nvda, 20)\n",
    "lyft = add_ema_dema(lyft, 20)\n"
   ]
  },
  {
   "cell_type": "code",
   "execution_count": null,
   "id": "8e3f464d",
   "metadata": {},
   "outputs": [],
   "source": "import plotly.graph_objects as go\nfrom plotly.subplots import make_subplots\n\ndef plot_stock(df, symbol, span=20):\n    fig = go.Figure()\n    \n    # Add traces\n    fig.add_trace(go.Scatter(x=df.index, y=df[\"Close\"], \n                             name=\"Close Price\", \n                             line=dict(color='blue', width=2)))\n    fig.add_trace(go.Scatter(x=df.index, y=df[f\"EMA_{span}\"], \n                             name=f\"EMA {span}\", \n                             line=dict(color='orange', dash='dash')))\n    fig.add_trace(go.Scatter(x=df.index, y=df[f\"DEMA_{span}\"], \n                             name=f\"DEMA {span}\", \n                             line=dict(color='green', dash='dot')))\n    \n    # Update layout with range slider\n    fig.update_layout(\n        title=f\"{symbol} Stock with EMA & DEMA\",\n        xaxis_title=\"Date\",\n        yaxis_title=\"Price ($)\",\n        hovermode='x unified',\n        height=600,\n        xaxis=dict(\n            rangeselector=dict(\n                buttons=list([\n                    dict(count=1, label=\"1d\", step=\"day\", stepmode=\"backward\"),\n                    dict(count=7, label=\"1w\", step=\"day\", stepmode=\"backward\"),\n                    dict(count=1, label=\"1m\", step=\"month\", stepmode=\"backward\"),\n                    dict(count=3, label=\"3m\", step=\"month\", stepmode=\"backward\"),\n                    dict(count=6, label=\"6m\", step=\"month\", stepmode=\"backward\"),\n                    dict(count=1, label=\"1y\", step=\"year\", stepmode=\"backward\"),\n                    dict(count=5, label=\"5y\", step=\"year\", stepmode=\"backward\"),\n                    dict(step=\"all\", label=\"All\")\n                ])\n            ),\n            rangeslider=dict(visible=True),\n            type=\"date\"\n        )\n    )\n    \n    fig.show()\n\nplot_stock(aapl, \"AAPL\")\nplot_stock(nvda, \"NVDA\")\nplot_stock(lyft, \"LYFT\")"
  },
  {
   "cell_type": "code",
   "execution_count": null,
   "id": "1f14236c",
   "metadata": {},
   "outputs": [],
   "source": "from statsmodels.tsa.seasonal import seasonal_decompose\nimport plotly.graph_objects as go\nfrom plotly.subplots import make_subplots\n\ndef decompose_series(df, symbol):\n    decomposition = seasonal_decompose(df[\"Adj Close\"], model=\"multiplicative\", period=252)\n    \n    # Create subplots with shared x-axis\n    fig = make_subplots(\n        rows=4, cols=1,\n        subplot_titles=('Observed', 'Trend', 'Seasonal', 'Residual'),\n        vertical_spacing=0.08,\n        shared_xaxes=True\n    )\n    \n    # Add traces for each component\n    fig.add_trace(go.Scatter(x=df.index, y=decomposition.observed, \n                             name='Observed', line=dict(color='blue', width=2)),\n                  row=1, col=1)\n    fig.add_trace(go.Scatter(x=df.index, y=decomposition.trend, \n                             name='Trend', line=dict(color='orange', width=2)),\n                  row=2, col=1)\n    fig.add_trace(go.Scatter(x=df.index, y=decomposition.seasonal, \n                             name='Seasonal', line=dict(color='green', width=2)),\n                  row=3, col=1)\n    fig.add_trace(go.Scatter(x=df.index, y=decomposition.resid, \n                             name='Residual', line=dict(color='red', width=1)),\n                  row=4, col=1)\n    \n    # Update layout\n    fig.update_layout(\n        title_text=f\"{symbol} - Time Series Decomposition\",\n        height=1000,\n        showlegend=False,\n        hovermode='x unified',\n        template='plotly_white'\n    )\n    \n    # Add y-axis labels\n    fig.update_yaxes(title_text=\"Price ($)\", row=1, col=1)\n    fig.update_yaxes(title_text=\"Multiplier\", row=2, col=1)\n    fig.update_yaxes(title_text=\"Multiplier\", row=3, col=1)\n    fig.update_yaxes(title_text=\"Multiplier\", row=4, col=1)\n    \n    # Add x-axis label to bottom\n    fig.update_xaxes(title_text=\"Date\", row=4, col=1)\n    \n    # Add range selector to top (row 1) and range slider to bottom (row 4)\n    fig.update_xaxes(\n        rangeselector=dict(\n            buttons=list([\n                dict(count=1, label=\"1d\", step=\"day\", stepmode=\"backward\"),\n                dict(count=7, label=\"1w\", step=\"day\", stepmode=\"backward\"),\n                dict(count=1, label=\"1m\", step=\"month\", stepmode=\"backward\"),\n                dict(count=3, label=\"3m\", step=\"month\", stepmode=\"backward\"),\n                dict(count=6, label=\"6m\", step=\"month\", stepmode=\"backward\"),\n                dict(count=1, label=\"1y\", step=\"year\", stepmode=\"backward\"),\n                dict(count=5, label=\"5y\", step=\"year\", stepmode=\"backward\"),\n                dict(step=\"all\", label=\"All\")\n            ]),\n            bgcolor=\"lightgray\",\n            activecolor=\"gray\",\n            y=1.15,\n            yanchor=\"top\"\n        ),\n        type=\"date\",\n        row=1, col=1\n    )\n    \n    fig.update_xaxes(\n        rangeslider=dict(visible=True),\n        type=\"date\",\n        row=4, col=1\n    )\n    \n    fig.show()\n\ndecompose_series(aapl, \"AAPL\")\ndecompose_series(nvda, \"NVDA\")\ndecompose_series(lyft, \"LYFT\")"
  },
  {
   "cell_type": "code",
   "execution_count": null,
   "id": "137efd4c",
   "metadata": {},
   "outputs": [],
   "source": "# Step 4: Classical Time Series Models (MA, AR, ARIMA)\n\nfrom statsmodels.tsa.arima.model import ARIMA\nfrom statsmodels.graphics.tsaplots import plot_acf, plot_pacf\nimport plotly.graph_objects as go\nimport numpy as np\n\n# Function to prepare train/test split\ndef prepare_data(df, train_ratio=0.8):\n    data = df[\"Adj Close\"].dropna()\n    train_size = int(len(data) * train_ratio)\n    train, test = data[:train_size], data[train_size:]\n    return train, test\n\n# Prepare data for all stocks\naapl_train, aapl_test = prepare_data(aapl)\nnvda_train, nvda_test = prepare_data(nvda)\nlyft_train, lyft_test = prepare_data(lyft)\n\nprint(f\"AAPL - Training: {len(aapl_train)} days, Test: {len(aapl_test)} days\")\nprint(f\"NVDA - Training: {len(nvda_train)} days, Test: {len(nvda_test)} days\")\nprint(f\"LYFT - Training: {len(lyft_train)} days, Test: {len(lyft_test)} days\")"
  },
  {
   "cell_type": "code",
   "execution_count": null,
   "id": "a342bdc6",
   "metadata": {},
   "outputs": [],
   "source": "# Moving Average (MA) Model - MA(q)\n# MA models use past forecast errors in a regression-like model\n\nfrom sklearn.metrics import mean_squared_error, mean_absolute_error\n\ndef fit_ma_model(train, test, q=20):\n    \"\"\"Fit MA model and return forecasts and metrics\"\"\"\n    model = ARIMA(train, order=(0, 0, q))\n    fitted = model.fit()\n    forecast = fitted.forecast(steps=len(test))\n    forecast.index = test.index\n    \n    rmse = np.sqrt(mean_squared_error(test, forecast))\n    mae = mean_absolute_error(test, forecast)\n    \n    return fitted, forecast, rmse, mae\n\n# Fit MA(20) for all stocks\nprint(\"=\"*60)\nprint(\"MOVING AVERAGE (MA) MODEL - MA(20)\")\nprint(\"=\"*60)\n\naapl_ma_fitted, aapl_ma_forecast, aapl_ma_rmse, aapl_ma_mae = fit_ma_model(aapl_train, aapl_test)\nprint(f\"\\nAAPL MA(20) - RMSE: ${aapl_ma_rmse:.2f}, MAE: ${aapl_ma_mae:.2f}\")\n\nnvda_ma_fitted, nvda_ma_forecast, nvda_ma_rmse, nvda_ma_mae = fit_ma_model(nvda_train, nvda_test)\nprint(f\"NVDA MA(20) - RMSE: ${nvda_ma_rmse:.2f}, MAE: ${nvda_ma_mae:.2f}\")\n\nlyft_ma_fitted, lyft_ma_forecast, lyft_ma_rmse, lyft_ma_mae = fit_ma_model(lyft_train, lyft_test)\nprint(f\"LYFT MA(20) - RMSE: ${lyft_ma_rmse:.2f}, MAE: ${lyft_ma_mae:.2f}\")"
  },
  {
   "cell_type": "code",
   "execution_count": null,
   "id": "fab1316f",
   "metadata": {},
   "outputs": [],
   "source": "# Autoregressive (AR) Model - AR(p)\n# AR models use past values of the series itself to predict future values\n\ndef fit_ar_model(train, test, p=20):\n    \"\"\"Fit AR model and return forecasts and metrics\"\"\"\n    model = ARIMA(train, order=(p, 0, 0))\n    fitted = model.fit()\n    forecast = fitted.forecast(steps=len(test))\n    forecast.index = test.index\n    \n    rmse = np.sqrt(mean_squared_error(test, forecast))\n    mae = mean_absolute_error(test, forecast)\n    \n    return fitted, forecast, rmse, mae\n\n# Fit AR(20) for all stocks\nprint(\"=\"*60)\nprint(\"AUTOREGRESSIVE (AR) MODEL - AR(20)\")\nprint(\"=\"*60)\n\naapl_ar_fitted, aapl_ar_forecast, aapl_ar_rmse, aapl_ar_mae = fit_ar_model(aapl_train, aapl_test)\nprint(f\"\\nAAPL AR(20) - RMSE: ${aapl_ar_rmse:.2f}, MAE: ${aapl_ar_mae:.2f}\")\n\nnvda_ar_fitted, nvda_ar_forecast, nvda_ar_rmse, nvda_ar_mae = fit_ar_model(nvda_train, nvda_test)\nprint(f\"NVDA AR(20) - RMSE: ${nvda_ar_rmse:.2f}, MAE: ${nvda_ar_mae:.2f}\")\n\nlyft_ar_fitted, lyft_ar_forecast, lyft_ar_rmse, lyft_ar_mae = fit_ar_model(lyft_train, lyft_test)\nprint(f\"LYFT AR(20) - RMSE: ${lyft_ar_rmse:.2f}, MAE: ${lyft_ar_mae:.2f}\")\n\n\n# ARIMA Model - ARIMA(p, d, q)\n# Combines AR and MA with differencing (d) for non-stationary data\n\ndef fit_arima_model(train, test, p=20, d=1, q=20):\n    \"\"\"Fit ARIMA model and return forecasts and metrics\"\"\"\n    model = ARIMA(train, order=(p, d, q))\n    fitted = model.fit()\n    forecast = fitted.forecast(steps=len(test))\n    forecast.index = test.index\n    \n    rmse = np.sqrt(mean_squared_error(test, forecast))\n    mae = mean_absolute_error(test, forecast)\n    \n    return fitted, forecast, rmse, mae\n\n# Fit ARIMA(20,1,20) for all stocks\nprint(\"\\n\" + \"=\"*60)\nprint(\"ARIMA MODEL - ARIMA(20,1,20)\")\nprint(\"=\"*60)\n\naapl_arima_fitted, aapl_arima_forecast, aapl_arima_rmse, aapl_arima_mae = fit_arima_model(aapl_train, aapl_test)\nprint(f\"\\nAAPL ARIMA(20,1,20) - RMSE: ${aapl_arima_rmse:.2f}, MAE: ${aapl_arima_mae:.2f}\")\n\nnvda_arima_fitted, nvda_arima_forecast, nvda_arima_rmse, nvda_arima_mae = fit_arima_model(nvda_train, nvda_test)\nprint(f\"NVDA ARIMA(20,1,20) - RMSE: ${nvda_arima_rmse:.2f}, MAE: ${nvda_arima_mae:.2f}\")\n\nlyft_arima_fitted, lyft_arima_forecast, lyft_arima_rmse, lyft_arima_mae = fit_arima_model(lyft_train, lyft_test)\nprint(f\"LYFT ARIMA(20,1,20) - RMSE: ${lyft_arima_rmse:.2f}, MAE: ${lyft_arima_mae:.2f}\")\n\n\n# Compare all models for all stocks\nprint(\"\\n\" + \"=\"*60)\nprint(\"MODEL COMPARISON - ALL STOCKS\")\nprint(\"=\"*60)\n\nfor symbol, ma_rmse, ma_mae, ar_rmse, ar_mae, arima_rmse, arima_mae in [\n    (\"AAPL\", aapl_ma_rmse, aapl_ma_mae, aapl_ar_rmse, aapl_ar_mae, aapl_arima_rmse, aapl_arima_mae),\n    (\"NVDA\", nvda_ma_rmse, nvda_ma_mae, nvda_ar_rmse, nvda_ar_mae, nvda_arima_rmse, nvda_arima_mae),\n    (\"LYFT\", lyft_ma_rmse, lyft_ma_mae, lyft_ar_rmse, lyft_ar_mae, lyft_arima_rmse, lyft_arima_mae)\n]:\n    print(f\"\\n{symbol}:\")\n    print(f\"  MA(20)         - RMSE: ${ma_rmse:.2f}, MAE: ${ma_mae:.2f}\")\n    print(f\"  AR(20)         - RMSE: ${ar_rmse:.2f}, MAE: ${ar_mae:.2f}\")\n    print(f\"  ARIMA(20,1,20) - RMSE: ${arima_rmse:.2f}, MAE: ${arima_mae:.2f}\")"
  },
  {
   "cell_type": "code",
   "id": "ku5ll8t55p7",
   "source": "# Visualize Model Predictions vs Actual\n\ndef plot_forecasts(train, test, ma_forecast, ar_forecast, arima_forecast, symbol):\n    fig = go.Figure()\n    \n    # Training data\n    fig.add_trace(go.Scatter(x=train.index, y=train, \n                             name='Training Data', \n                             line=dict(color='blue', width=2)))\n    \n    # Actual test data\n    fig.add_trace(go.Scatter(x=test.index, y=test, \n                             name='Actual Test Data', \n                             line=dict(color='black', width=2)))\n    \n    # MA forecast\n    fig.add_trace(go.Scatter(x=ma_forecast.index, y=ma_forecast, \n                             name='MA(20) Forecast', \n                             line=dict(color='red', dash='dash')))\n    \n    # AR forecast\n    fig.add_trace(go.Scatter(x=ar_forecast.index, y=ar_forecast, \n                             name='AR(20) Forecast', \n                             line=dict(color='orange', dash='dash')))\n    \n    # ARIMA forecast\n    fig.add_trace(go.Scatter(x=arima_forecast.index, y=arima_forecast, \n                             name='ARIMA(20,1,20) Forecast', \n                             line=dict(color='green', dash='dash')))\n    \n    # Update layout\n    fig.update_layout(\n        title=f\"{symbol} - Model Forecasts Comparison (20 Lags)\",\n        xaxis_title=\"Date\",\n        yaxis_title=\"Price ($)\",\n        hovermode='x unified',\n        height=600,\n        template='plotly_white',\n        xaxis=dict(\n            rangeselector=dict(\n                buttons=list([\n                    dict(count=1, label=\"1m\", step=\"month\", stepmode=\"backward\"),\n                    dict(count=3, label=\"3m\", step=\"month\", stepmode=\"backward\"),\n                    dict(count=6, label=\"6m\", step=\"month\", stepmode=\"backward\"),\n                    dict(count=1, label=\"1y\", step=\"year\", stepmode=\"backward\"),\n                    dict(step=\"all\", label=\"All\")\n                ]),\n                bgcolor=\"lightgray\",\n                activecolor=\"gray\"\n            ),\n            rangeslider=dict(visible=True),\n            type=\"date\"\n        )\n    )\n    \n    fig.show()\n\n# Plot for all stocks\nplot_forecasts(aapl_train, aapl_test, aapl_ma_forecast, aapl_ar_forecast, aapl_arima_forecast, \"AAPL\")\nplot_forecasts(nvda_train, nvda_test, nvda_ma_forecast, nvda_ar_forecast, nvda_arima_forecast, \"NVDA\")\nplot_forecasts(lyft_train, lyft_test, lyft_ma_forecast, lyft_ar_forecast, lyft_arima_forecast, \"LYFT\")",
   "metadata": {},
   "execution_count": null,
   "outputs": []
  }
 ],
 "metadata": {
  "kernelspec": {
   "display_name": "Python 3",
   "language": "python",
   "name": "python3"
  },
  "language_info": {
   "codemirror_mode": {
    "name": "ipython",
    "version": 3
   },
   "file_extension": ".py",
   "mimetype": "text/x-python",
   "name": "python",
   "nbconvert_exporter": "python",
   "pygments_lexer": "ipython3",
   "version": "3.13.7"
  }
 },
 "nbformat": 4,
 "nbformat_minor": 5
}